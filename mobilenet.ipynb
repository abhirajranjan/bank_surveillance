{
 "cells": [
  {
   "cell_type": "code",
   "execution_count": 1,
   "metadata": {
    "execution": {
     "iopub.execute_input": "2025-04-23T17:45:30.593907Z",
     "iopub.status.busy": "2025-04-23T17:45:30.593184Z",
     "iopub.status.idle": "2025-04-23T17:45:30.900998Z",
     "shell.execute_reply": "2025-04-23T17:45:30.900270Z",
     "shell.execute_reply.started": "2025-04-23T17:45:30.593873Z"
    },
    "trusted": true
   },
   "outputs": [],
   "source": [
    "# Import necessary libraries  \n",
    "import pandas as pd\n",
    "import numpy as np\n",
    "\n",
    "# Load the labels dataset from the .csv file\n",
    "robberydf = pd.read_csv('/kaggle/input/dcsass-dataset/DCSASS Dataset/Labels/Robbery.csv')\n",
    "burglarydf = pd.read_csv('/kaggle/input/dcsass-dataset/DCSASS Dataset/Labels/Burglary.csv')\n",
    "shootingdf = pd.read_csv('/kaggle/input/dcsass-dataset/DCSASS Dataset/Labels/Shooting.csv')"
   ]
  },
  {
   "cell_type": "code",
   "execution_count": 2,
   "metadata": {
    "execution": {
     "iopub.execute_input": "2025-04-23T17:45:33.460595Z",
     "iopub.status.busy": "2025-04-23T17:45:33.459613Z",
     "iopub.status.idle": "2025-04-23T17:45:33.480389Z",
     "shell.execute_reply": "2025-04-23T17:45:33.479673Z",
     "shell.execute_reply.started": "2025-04-23T17:45:33.460567Z"
    },
    "trusted": true
   },
   "outputs": [],
   "source": [
    "# # Rename first column that contains the video paths\n",
    "robberydf['video_path'] = robberydf['Robbery001_x264_0']\n",
    "# Drop the unnecessary columns\n",
    "robberydf = robberydf.drop(columns=['Robbery001_x264_0','Robbery'])\n",
    "# Rename the columns for clarity\n",
    "robberydf = robberydf.rename(columns={'0': 'label'})\n",
    "robberydf['video_path'] = robberydf['video_path'].apply(lambda x: f\"{x}.mp4\")\n",
    "\n",
    "# Rename first column that contains the video paths\n",
    "burglarydf['video_path'] = burglarydf['Burglary001_x264_0']\n",
    "# Drop the unnecessary columns\n",
    "burglarydf = burglarydf.drop(columns=['Burglary001_x264_0','Burglary'])\n",
    "# Rename the columns for clarity\n",
    "burglarydf = burglarydf.rename(columns={'0': 'label'})\n",
    "burglarydf['video_path'] = burglarydf['video_path'].apply(lambda x: f\"{x}.mp4\")\n",
    "\n",
    "# Rename first column that contains the video paths\n",
    "shootingdf['video_path'] = shootingdf['Shooting002_x264_0']\n",
    "# Drop the unnecessary columns\n",
    "shootingdf = shootingdf.drop(columns=['Shooting002_x264_0','Shooting'])\n",
    "# Rename the columns for clarity\n",
    "shootingdf = shootingdf.rename(columns={'0': 'label'})\n",
    "shootingdf['video_path'] = shootingdf['video_path'].apply(lambda x: f\"{x}.mp4\")\n"
   ]
  },
  {
   "cell_type": "code",
   "execution_count": null,
   "metadata": {
    "execution": {
     "iopub.execute_input": "2025-04-23T20:47:45.352361Z",
     "iopub.status.busy": "2025-04-23T20:47:45.351881Z",
     "iopub.status.idle": "2025-04-23T20:47:45.370274Z",
     "shell.execute_reply": "2025-04-23T20:47:45.369555Z",
     "shell.execute_reply.started": "2025-04-23T20:47:45.352340Z"
    },
    "trusted": true
   },
   "outputs": [],
   "source": [
    "import tensorflow as tf\n",
    "import cv2\n",
    "import re\n",
    "import numpy as np\n",
    "\n",
    "import tensorflow_hub as hub\n",
    "from sklearn.model_selection import train_test_split\n",
    "import tensorflow_probability as tfp\n",
    "\n",
    "# Conditionally import tf_keras as keras for TensorFlow 3.x compatibility\n",
    "version_fn = getattr(tf.keras, \"version\", None)\n",
    "if version_fn and version_fn().startswith(\"3.\"):\n",
    "    import tf_keras as keras\n",
    "else:\n",
    "    keras = tf.keras\n",
    "\n",
    "\n",
    "def preprocess_image(image):\n",
    "    # Resize the image to the expected input size of the MobileNet model (128x128)\n",
    "    image = cv2.resize(image, (128, 128))\n",
    "    # Normalize the pixel values to the range [0, 1]\n",
    "    image = image / 255.0\n",
    "    return image\n",
    "\n",
    "class VideoDataGenerator(keras.utils.Sequence):\n",
    "    def __init__(self, video_paths, labels, roots, batch_size=8, num_frames=16, target_size=(128, 128)):\n",
    "        self.video_paths = video_paths\n",
    "        self.labels = labels\n",
    "        self.roots = roots\n",
    "        self.batch_size = batch_size\n",
    "        self.num_frames = num_frames\n",
    "        self.target_size = target_size\n",
    "        print(video_paths)\n",
    "\n",
    "    def __len__(self):\n",
    "        return (len(self.video_paths) + self.batch_size - 1) // self.batch_size\n",
    "\n",
    "    def __getitem__(self, idx):\n",
    "        batch_paths = self.video_paths[idx * self.batch_size:(idx + 1) * self.batch_size]\n",
    "        batch_roots = self.roots[idx * self.batch_size:(idx + 1) * self.batch_size]\n",
    "        batch_labels = self.labels[idx * self.batch_size:(idx + 1) * self.batch_size]\n",
    "\n",
    "        batch_x = np.zeros((len(batch_paths), self.num_frames, *self.target_size, 3), dtype=np.float32)\n",
    "        batch_y = np.zeros((len(batch_paths), 3), dtype=np.float32)\n",
    "\n",
    "        for i, (video_path, root, label) in enumerate(zip(batch_paths, batch_roots, batch_labels)):\n",
    "            frames = self._load_video_frames(root, video_path)\n",
    "            batch_x[i] = frames\n",
    "            batch_y[i] = label\n",
    "\n",
    "        return batch_x, batch_y\n",
    "\n",
    "    def _load_video_frames(self, root, video_path):\n",
    "        full_path = re.sub(r'_\\d+', '', root + '/' + video_path)\n",
    "        cap = cv2.VideoCapture(full_path + '/' + video_path)\n",
    "        total_frames = int(cap.get(cv2.CAP_PROP_FRAME_COUNT))\n",
    "\n",
    "        frame_indices = np.linspace(0, total_frames - 1, self.num_frames, dtype=np.int32)\n",
    "        frames = []\n",
    "\n",
    "        for fi in frame_indices:\n",
    "            cap.set(cv2.CAP_PROP_POS_FRAMES, fi)\n",
    "            ret, frame = cap.read()\n",
    "            if not ret:\n",
    "                break\n",
    "            frame = cv2.resize(frame, self.target_size)\n",
    "            frame = frame / 255.0\n",
    "            frames.append(frame)\n",
    "\n",
    "        cap.release()\n",
    "\n",
    "        # Pad if not enough frames\n",
    "        while len(frames) < self.num_frames:\n",
    "            frames.append(np.zeros((*self.target_size, 3)))\n",
    "\n",
    "        return np.array(frames)\n",
    "\n",
    "def prepare_dataset_generators(robbery_df, shooting_df, burglary_df, batch_size=32, test_size=0.4):\n",
    "    label_map = {\n",
    "        'robbery': {\n",
    "            1: [1, 0, 0],  # Robbery is true\n",
    "            0: [0, 0, 0]   # Robbery is false\n",
    "        },\n",
    "        'shooting':{\n",
    "            1: [0, 1, 0],  # Robbery is true\n",
    "            0: [0, 0, 0]   # Robbery is false\n",
    "        },\n",
    "        'burglary': { \n",
    "            1: [0, 0, 1],  # Robbery is true\n",
    "            0: [0, 0, 0]   # Robbery is false\n",
    "        }\n",
    "    }\n",
    "    \n",
    "    \n",
    "    robbery_df = robbery_df.copy()\n",
    "    # robbery_df['one_hot_label'] = [label_map['robbery']] * len(robbery_df)\n",
    "    robbery_df['one_hot_label'] = robbery_df['label'].map(label_map['robbery'])\n",
    "    robbery_df['root'] = \"/kaggle/input/dcsass-dataset/DCSASS Dataset/Robbery\"\n",
    "\n",
    "    shooting_df = shooting_df.copy()\n",
    "    # shooting_df['one_hot_label'] = [label_map['shooting']] * len(shooting_df)\n",
    "    shooting_df['one_hot_label'] = shooting_df['label'].map(label_map['shooting'])\n",
    "    shooting_df['root'] = \"/kaggle/input/dcsass-dataset/DCSASS Dataset/Shooting\"\n",
    "\n",
    "    burglary_df = burglary_df.copy()\n",
    "    # burglary_df['one_hot_label'] = [label_map['burglary']] * len(burglary_df)\n",
    "    burglary_df['one_hot_label'] = burglary_df['label'].map(label_map['burglary'])\n",
    "    burglary_df['root'] = \"/kaggle/input/dcsass-dataset/DCSASS Dataset/Burglary\"\n",
    "\n",
    "    full_df = pd.concat([robbery_df, shooting_df, burglary_df], ignore_index=True)\n",
    "\n",
    "    train_df, test_df = train_test_split(\n",
    "        full_df,\n",
    "        test_size=test_size,\n",
    "        random_state=42,\n",
    "        stratify=full_df['root']\n",
    "    )\n",
    "\n",
    "    test_df, val_df = train_test_split(\n",
    "        test_df,\n",
    "        test_size=0.5,\n",
    "        random_state=42,\n",
    "        stratify=test_df['root']\n",
    "    )\n",
    "\n",
    "    train_gen = VideoDataGenerator(\n",
    "        train_df['video_path'].values,\n",
    "        train_df['one_hot_label'].values,\n",
    "        train_df['root'].values,\n",
    "        batch_size=batch_size\n",
    "    )\n",
    "\n",
    "    test_gen = VideoDataGenerator(\n",
    "        test_df['video_path'].values,\n",
    "        test_df['one_hot_label'].values,\n",
    "        test_df['root'].values,\n",
    "        batch_size=batch_size\n",
    "    )\n",
    "\n",
    "    \n",
    "    val_gen = VideoDataGenerator(\n",
    "        val_df['video_path'].values,\n",
    "        val_df['one_hot_label'].values,\n",
    "        val_df['root'].values,\n",
    "        batch_size=batch_size\n",
    "    )\n",
    "\n",
    "    return train_gen, None, None"
   ]
  },
  {
   "cell_type": "code",
   "execution_count": null,
   "metadata": {
    "execution": {
     "iopub.execute_input": "2025-04-23T17:58:23.916306Z",
     "iopub.status.busy": "2025-04-23T17:58:23.916018Z",
     "iopub.status.idle": "2025-04-23T17:58:23.924349Z",
     "shell.execute_reply": "2025-04-23T17:58:23.923376Z",
     "shell.execute_reply.started": "2025-04-23T17:58:23.916287Z"
    },
    "trusted": true
   },
   "outputs": [],
   "source": [
    "class BayesianCrimeDetector:\n",
    "    def __init__(self, learning_rate=0.0001):\n",
    "        self.model_url = \"https://www.kaggle.com/models/google/mobilenet-v2/TensorFlow2/035-128-classification/2\"\n",
    "        self.learning_rate = learning_rate\n",
    "    \n",
    "    def train_model(self, train_gen, test_gen, epochs=15):\n",
    "        \n",
    "        mobilenet = keras.applications.MobileNetV2(\n",
    "            include_top=False,\n",
    "            input_shape=(128, 128, 3),\n",
    "            weights='imagenet'\n",
    "        )\n",
    "\n",
    "        model = keras.Sequential([\n",
    "            keras.layers.TimeDistributed(mobilenet, input_shape=(16, 128, 128, 3)),\n",
    "            keras.layers.ConvLSTM2D(filters=32, kernel_size=(3, 3), padding='same', return_sequences=False),\n",
    "            keras.layers.GlobalAveragePooling2D(),\n",
    "            keras.layers.Dense(3, activation='softmax')\n",
    "        ])\n",
    "        \n",
    "        optimizer = keras.optimizers.Adam(learning_rate=self.learning_rate)\n",
    "        model.compile(optimizer=optimizer, loss='categorical_crossentropy', metrics=['accuracy'])\n",
    "    \n",
    "        # Callbacks\n",
    "        lr_scheduler = keras.callbacks.LearningRateScheduler(\n",
    "            lambda epoch, lr: lr * 0.5 if epoch % 3 == 0 and epoch > 0 else lr\n",
    "        )\n",
    "        early_stopping = keras.callbacks.EarlyStopping(\n",
    "            monitor='val_loss', patience=5, restore_best_weights=True\n",
    "        )\n",
    "    \n",
    "        history = model.fit(\n",
    "            train_gen,\n",
    "            validation_data=test_gen,\n",
    "            epochs=epochs,\n",
    "            callbacks=[lr_scheduler, early_stopping]\n",
    "        )\n",
    "    \n",
    "        return history, model"
   ]
  },
  {
   "cell_type": "code",
   "execution_count": 36,
   "metadata": {
    "execution": {
     "iopub.execute_input": "2025-04-23T20:47:56.198411Z",
     "iopub.status.busy": "2025-04-23T20:47:56.197834Z",
     "iopub.status.idle": "2025-04-23T20:47:56.215721Z",
     "shell.execute_reply": "2025-04-23T20:47:56.214976Z",
     "shell.execute_reply.started": "2025-04-23T20:47:56.198391Z"
    },
    "trusted": true
   },
   "outputs": [
    {
     "name": "stdout",
     "output_type": "stream",
     "text": [
      "Preparing dataset generators...\n",
      "['Robbery013_x264_6.mp4' 'Burglary055_x264_15.mp4'\n",
      " 'Robbery120_x264_28.mp4' ... 'Robbery063_x264_12.mp4'\n",
      " 'Shooting010_x264_19.mp4' 'Robbery048_x264_29.mp4']\n"
     ]
    }
   ],
   "source": [
    "crime_types = [\"robbery\", \"shooting\", \"burglary\"]\n",
    "print(\"Preparing dataset generators...\")\n",
    "train_gen, test_gen, val_gen = prepare_dataset_generators(\n",
    "    robberydf, shootingdf, burglarydf, batch_size=8\n",
    ")"
   ]
  },
  {
   "cell_type": "code",
   "execution_count": 35,
   "metadata": {
    "execution": {
     "iopub.execute_input": "2025-04-23T20:47:52.411847Z",
     "iopub.status.busy": "2025-04-23T20:47:52.411252Z",
     "iopub.status.idle": "2025-04-23T20:47:53.236980Z",
     "shell.execute_reply": "2025-04-23T20:47:53.236190Z",
     "shell.execute_reply.started": "2025-04-23T20:47:52.411824Z"
    },
    "trusted": true
   },
   "outputs": [
    {
     "name": "stdout",
     "output_type": "stream",
     "text": [
      "x_batch shape: (8, 16, 128, 128, 3)\n",
      "y_batch shape: (8, 3)\n",
      "y_batch dtype: float32\n"
     ]
    }
   ],
   "source": [
    "x_batch, y_batch = train_gen[0]\n",
    "print(\"x_batch shape:\", x_batch.shape)\n",
    "print(\"y_batch shape:\", y_batch.shape)\n",
    "print(\"y_batch dtype:\", y_batch.dtype)"
   ]
  },
  {
   "cell_type": "code",
   "execution_count": 24,
   "metadata": {
    "execution": {
     "iopub.execute_input": "2025-04-23T17:58:32.115374Z",
     "iopub.status.busy": "2025-04-23T17:58:32.114903Z",
     "iopub.status.idle": "2025-04-23T20:20:11.591926Z",
     "shell.execute_reply": "2025-04-23T20:20:11.591283Z",
     "shell.execute_reply.started": "2025-04-23T17:58:32.115353Z"
    },
    "trusted": true
   },
   "outputs": [
    {
     "name": "stdout",
     "output_type": "stream",
     "text": [
      "Creating and training the model...\n",
      "Downloading data from https://storage.googleapis.com/tensorflow/keras-applications/mobilenet_v2/mobilenet_v2_weights_tf_dim_ordering_tf_kernels_1.0_128_no_top.h5\n",
      "9406464/9406464 [==============================] - 1s 0us/step\n",
      "Epoch 1/15\n"
     ]
    },
    {
     "name": "stderr",
     "output_type": "stream",
     "text": [
      "WARNING: All log messages before absl::InitializeLog() is called are written to STDERR\n",
      "I0000 00:00:1745431141.620099     127 service.cc:148] XLA service 0x7a3e1a47c420 initialized for platform CUDA (this does not guarantee that XLA will be used). Devices:\n",
      "I0000 00:00:1745431141.620590     127 service.cc:156]   StreamExecutor device (0): Tesla T4, Compute Capability 7.5\n",
      "I0000 00:00:1745431141.620614     127 service.cc:156]   StreamExecutor device (1): Tesla T4, Compute Capability 7.5\n",
      "I0000 00:00:1745431141.792152     127 device_compiler.h:188] Compiled cluster using XLA!  This line is logged at most once for the lifetime of the process.\n"
     ]
    },
    {
     "name": "stdout",
     "output_type": "stream",
     "text": [
      "439/439 [==============================] - 628s 1s/step - loss: 0.3822 - accuracy: 0.7856 - val_loss: 0.4169 - val_accuracy: 0.8540 - lr: 1.0000e-04\n",
      "Epoch 2/15\n",
      "439/439 [==============================] - 565s 1s/step - loss: 0.2463 - accuracy: 0.8904 - val_loss: 0.3274 - val_accuracy: 0.8847 - lr: 1.0000e-04\n",
      "Epoch 3/15\n",
      "439/439 [==============================] - 572s 1s/step - loss: 0.2111 - accuracy: 0.9077 - val_loss: 0.2907 - val_accuracy: 0.8728 - lr: 1.0000e-04\n",
      "Epoch 4/15\n",
      "439/439 [==============================] - 562s 1s/step - loss: 0.1770 - accuracy: 0.9226 - val_loss: 0.1911 - val_accuracy: 0.9018 - lr: 5.0000e-05\n",
      "Epoch 5/15\n",
      "439/439 [==============================] - 559s 1s/step - loss: 0.1452 - accuracy: 0.9371 - val_loss: 0.1795 - val_accuracy: 0.9061 - lr: 5.0000e-05\n",
      "Epoch 6/15\n",
      "439/439 [==============================] - 563s 1s/step - loss: 0.1270 - accuracy: 0.9468 - val_loss: 0.1522 - val_accuracy: 0.9112 - lr: 5.0000e-05\n",
      "Epoch 7/15\n",
      "439/439 [==============================] - 564s 1s/step - loss: 0.1184 - accuracy: 0.9536 - val_loss: 0.1427 - val_accuracy: 0.9112 - lr: 2.5000e-05\n",
      "Epoch 8/15\n",
      "439/439 [==============================] - 562s 1s/step - loss: 0.1030 - accuracy: 0.9604 - val_loss: 0.1452 - val_accuracy: 0.9197 - lr: 2.5000e-05\n",
      "Epoch 9/15\n",
      "439/439 [==============================] - 562s 1s/step - loss: 0.0968 - accuracy: 0.9636 - val_loss: 0.1324 - val_accuracy: 0.9146 - lr: 2.5000e-05\n",
      "Epoch 10/15\n",
      "439/439 [==============================] - 557s 1s/step - loss: 0.0888 - accuracy: 0.9641 - val_loss: 0.1217 - val_accuracy: 0.9223 - lr: 1.2500e-05\n",
      "Epoch 11/15\n",
      "439/439 [==============================] - 563s 1s/step - loss: 0.0834 - accuracy: 0.9667 - val_loss: 0.1247 - val_accuracy: 0.9206 - lr: 1.2500e-05\n",
      "Epoch 12/15\n",
      "439/439 [==============================] - 559s 1s/step - loss: 0.0807 - accuracy: 0.9675 - val_loss: 0.1188 - val_accuracy: 0.9214 - lr: 1.2500e-05\n",
      "Epoch 13/15\n",
      "439/439 [==============================] - 561s 1s/step - loss: 0.0760 - accuracy: 0.9704 - val_loss: 0.1139 - val_accuracy: 0.9206 - lr: 6.2500e-06\n",
      "Epoch 14/15\n",
      "439/439 [==============================] - 560s 1s/step - loss: 0.0734 - accuracy: 0.9715 - val_loss: 0.1104 - val_accuracy: 0.9197 - lr: 6.2500e-06\n",
      "Epoch 15/15\n",
      "439/439 [==============================] - 558s 1s/step - loss: 0.0707 - accuracy: 0.9724 - val_loss: 0.1064 - val_accuracy: 0.9197 - lr: 6.2500e-06\n"
     ]
    }
   ],
   "source": [
    "print(\"Creating and training the model...\")\n",
    "detector = BayesianCrimeDetector(learning_rate=0.0001)\n",
    "history, model = detector.train_model(train_gen, val_gen, epochs=15)"
   ]
  },
  {
   "cell_type": "markdown",
   "metadata": {},
   "source": [
    "*--end--*"
   ]
  },
  {
   "cell_type": "code",
   "execution_count": 28,
   "metadata": {
    "execution": {
     "iopub.execute_input": "2025-04-23T20:32:47.190861Z",
     "iopub.status.busy": "2025-04-23T20:32:47.190578Z",
     "iopub.status.idle": "2025-04-23T20:32:47.580636Z",
     "shell.execute_reply": "2025-04-23T20:32:47.579776Z",
     "shell.execute_reply.started": "2025-04-23T20:32:47.190842Z"
    },
    "trusted": true
   },
   "outputs": [
    {
     "data": {
      "image/png": "[encoded data removed]",
      "text/plain": [
       "<Figure size 640x480 with 1 Axes>"
      ]
     },
     "metadata": {},
     "output_type": "display_data"
    },
    {
     "data": {
      "image/png": "[encoded data removed]",
      "text/plain": [
       "<Figure size 640x480 with 1 Axes>"
      ]
     },
     "metadata": {},
     "output_type": "display_data"
    }
   ],
   "source": [
    "import matplotlib.pyplot as plt\n",
    "\n",
    "# Enable eager execution\n",
    "tf.config.run_functions_eagerly(True)\n",
    "\n",
    "# Plot training & validation accuracy values\n",
    "plt.plot(history.history['accuracy'])\n",
    "plt.plot(history.history['val_accuracy'])\n",
    "plt.title('Model accuracy')\n",
    "plt.ylabel('Accuracy')\n",
    "plt.xlabel('Epoch')\n",
    "plt.legend(['Train', 'Validation'], loc='upper left')\n",
    "plt.show()\n",
    "\n",
    "# Plot training & validation loss values\n",
    "plt.plot(history.history['loss'])\n",
    "plt.plot(history.history['val_loss'])\n",
    "plt.title('Model loss')\n",
    "plt.ylabel('Loss')\n",
    "plt.xlabel('Epoch')\n",
    "plt.legend(['Train', 'Validation'], loc='upper left')\n",
    "plt.show()"
   ]
  },
  {
   "cell_type": "code",
   "execution_count": 30,
   "metadata": {
    "execution": {
     "iopub.execute_input": "2025-04-23T20:33:59.178553Z",
     "iopub.status.busy": "2025-04-23T20:33:59.177856Z",
     "iopub.status.idle": "2025-04-23T20:36:33.516393Z",
     "shell.execute_reply": "2025-04-23T20:36:33.515849Z",
     "shell.execute_reply.started": "2025-04-23T20:33:59.178529Z"
    },
    "trusted": true
   },
   "outputs": [
    {
     "name": "stderr",
     "output_type": "stream",
     "text": [
      "/usr/local/lib/python3.11/dist-packages/tensorflow/python/data/ops/structured_function.py:258: UserWarning: Even though the `tf.config.experimental_run_functions_eagerly` option is set, this option does not apply to tf.data functions. To force eager execution of tf.data functions, please use `tf.data.experimental.enable_debug_mode()`.\n",
      "  warnings.warn(\n"
     ]
    }
   ],
   "source": [
    "# test_images, test_labels = preprocess_data(test_df)\n",
    "predictions = model.predict(test_gen, verbose=0)"
   ]
  },
  {
   "cell_type": "code",
   "execution_count": 27,
   "metadata": {
    "execution": {
     "iopub.execute_input": "2025-04-23T20:22:44.256205Z",
     "iopub.status.busy": "2025-04-23T20:22:44.255918Z",
     "iopub.status.idle": "2025-04-23T20:22:44.690952Z",
     "shell.execute_reply": "2025-04-23T20:22:44.690376Z",
     "shell.execute_reply.started": "2025-04-23T20:22:44.256184Z"
    },
    "trusted": true
   },
   "outputs": [
    {
     "name": "stderr",
     "output_type": "stream",
     "text": [
      "/usr/local/lib/python3.11/dist-packages/tf_keras/src/engine/training.py:3098: UserWarning: You are saving your model as an HDF5 file via `model.save()`. This file format is considered legacy. We recommend using instead the native TF-Keras format, e.g. `model.save('my_model.keras')`.\n",
      "  saving_api.save_model(\n"
     ]
    }
   ],
   "source": [
    "model.save(\"my_model_final.h5\")"
   ]
  }
 ],
 "metadata": {
  "kaggle": {
   "accelerator": "nvidiaTeslaT4",
   "dataSources": [
    {
     "datasetId": 205791,
     "sourceId": 451400,
     "sourceType": "datasetVersion"
    },
    {
     "modelId": 301,
     "modelInstanceId": 2508,
     "sourceId": 3404,
     "sourceType": "modelInstanceVersion"
    }
   ],
   "isGpuEnabled": true,
   "isInternetEnabled": true,
   "language": "python",
   "sourceType": "notebook"
  },
  "kernelspec": {
   "display_name": "Python 3",
   "language": "python",
   "name": "python3"
  },
  "language_info": {
   "codemirror_mode": {
    "name": "ipython",
    "version": 3
   },
   "file_extension": ".py",
   "mimetype": "text/x-python",
   "name": "python",
   "nbconvert_exporter": "python",
   "pygments_lexer": "ipython3",
   "version": "3.11.11"
  }
 },
 "nbformat": 4,
 "nbformat_minor": 4
}
